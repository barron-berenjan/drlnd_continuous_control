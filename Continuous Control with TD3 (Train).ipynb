{
  "cells": [
    {
      "cell_type": "markdown",
      "source": [
        "# Continuous Control with TD3 (Train)\n",
        "\n",
        "---\n",
        "\n",
        "### Import the Necessary Packages"
      ],
      "metadata": {}
    },
    {
      "cell_type": "code",
      "source": [
        "import gym\n",
        "import random\n",
        "import torch\n",
        "import numpy as np\n",
        "from collections import deque\n",
        "import matplotlib.pyplot as plt\n",
        "from unityagents import UnityEnvironment\n",
        "%matplotlib inline\n",
        "\n",
        "from td3_agent import Agent"
      ],
      "outputs": [],
      "execution_count": 1,
      "metadata": {}
    },
    {
      "cell_type": "markdown",
      "source": [
        "### Instantiate the Environment and Agent"
      ],
      "metadata": {}
    },
    {
      "cell_type": "code",
      "source": [
        "\n",
        "env = UnityEnvironment(file_name=\"Reacher.app\")\n",
        "# get the default brain\n",
        "brain_name = env.brain_names[0]\n",
        "brain = env.brains[brain_name]\n",
        "\n",
        "# reset the environment\n",
        "env_info = env.reset(train_mode=True)[brain_name]\n",
        "\n",
        "# number of agents in the environment\n",
        "num_agents = len(env_info.agents)\n",
        "print('Number of agents:', num_agents)\n",
        "\n",
        "# number of actions\n",
        "action_size = brain.vector_action_space_size\n",
        "print('Number of actions:', action_size)\n",
        "\n",
        "# examine the state space \n",
        "state = env_info.vector_observations[0]\n",
        "print('States look like:', state)\n",
        "state_size = len(state)\n",
        "print('States have length:', state_size)"
      ],
      "outputs": [
        {
          "output_type": "stream",
          "name": "stderr",
          "text": [
            "INFO:unityagents:\n",
            "'Academy' started successfully!\n",
            "Unity Academy name: Academy\n",
            "        Number of Brains: 1\n",
            "        Number of External Brains : 1\n",
            "        Lesson number : 0\n",
            "        Reset Parameters :\n",
            "\t\tgoal_speed -> 1.0\n",
            "\t\tgoal_size -> 5.0\n",
            "Unity brain name: ReacherBrain\n",
            "        Number of Visual Observations (per agent): 0\n",
            "        Vector Observation space type: continuous\n",
            "        Vector Observation space size (per agent): 33\n",
            "        Number of stacked Vector Observation: 1\n",
            "        Vector Action space type: continuous\n",
            "        Vector Action space size (per agent): 4\n",
            "        Vector Action descriptions: , , , \n"
          ]
        },
        {
          "output_type": "stream",
          "name": "stdout",
          "text": [
            "Number of agents: 1\n",
            "Number of actions: 4\n",
            "States look like: [ 0.00000000e+00 -4.00000000e+00  0.00000000e+00  1.00000000e+00\n",
            " -0.00000000e+00 -0.00000000e+00 -4.37113883e-08  0.00000000e+00\n",
            "  0.00000000e+00  0.00000000e+00  0.00000000e+00  0.00000000e+00\n",
            "  0.00000000e+00  0.00000000e+00 -1.00000000e+01  0.00000000e+00\n",
            "  1.00000000e+00 -0.00000000e+00 -0.00000000e+00 -4.37113883e-08\n",
            "  0.00000000e+00  0.00000000e+00  0.00000000e+00  0.00000000e+00\n",
            "  0.00000000e+00  0.00000000e+00  5.75471878e+00 -1.00000000e+00\n",
            "  5.55726671e+00  0.00000000e+00  1.00000000e+00  0.00000000e+00\n",
            " -1.68164849e-01]\n",
            "States have length: 33\n"
          ]
        }
      ],
      "execution_count": 2,
      "metadata": {}
    },
    {
      "cell_type": "code",
      "source": [
        "agent = Agent(state_size=33, action_size=4, random_seed=1121)"
      ],
      "outputs": [],
      "execution_count": 3,
      "metadata": {}
    },
    {
      "cell_type": "code",
      "source": [
        "def td3(n_episodes=10000, max_t=1000, print_every=100):\n",
        "    \n",
        "    scores_deque = deque(maxlen=print_every)\n",
        "    scores = []\n",
        "    \n",
        "    for i_episode in range(1, n_episodes+1):\n",
        "        env_info = env.reset(train_mode=True)[brain_name]\n",
        "        states = env_info.vector_observations\n",
        "        score = np.zeros(num_agents) \n",
        "        \n",
        "        for t in range(max_t):\n",
        "            actions = agent.act(states)\n",
        "            env_info = env.step(actions)[brain_name]\n",
        "            next_states = env_info.vector_observations\n",
        "            rewards = env_info.rewards\n",
        "            dones = env_info.local_done\n",
        "            agent.step(states, actions, rewards, next_states, dones)\n",
        "            states = next_states\n",
        "            score += rewards\n",
        "            if np.any(dones):\n",
        "                break \n",
        "                \n",
        "        scores_deque.append(scores)\n",
        "        scores.append(score)\n",
        "       \n",
        "        print('\\rEpisode {}\\tAverage Score: {:.2f}'.format(i_episode, np.mean(scores_deque)), end=\"\")\n",
        "        \n",
        "        if i_episode % print_every == 0:\n",
        "            print('\\rEpisode {}\\tAverage Score: {:.2f}'.format(i_episode, np.mean(scores_deque)))\n",
        "            \n",
        "        if np.mean(scores_deque) > 30:\n",
        "            print('\\nEnvironment solved in {:d} episodes!\\tAverage Score: {:.2f}'.format(i_episode - 100,\n",
        "                                                                                         np.mean(scores_deque)))\n",
        "            torch.save(agent.actor_local.state_dict(), 'td3_checkpoint_actor.pth')\n",
        "            torch.save(agent.critic_local_one.state_dict(), 'td3_checkpoint_critic.pth')\n",
        "            break\n",
        "            \n",
        "    return scores\n",
        "\n"
      ],
      "outputs": [],
      "execution_count": 7,
      "metadata": {}
    },
    {
      "cell_type": "code",
      "source": [
        "scores = td3()\n",
        "\n",
        "fig = plt.figure()\n",
        "ax = fig.add_subplot(111)\n",
        "plt.plot(np.arange(1, len(scores)+1), scores)\n",
        "plt.ylabel('Score')\n",
        "plt.xlabel('Episode #')\n",
        "plt.show()"
      ],
      "outputs": [
        {
          "output_type": "stream",
          "name": "stderr",
          "text": [
            "c:\\users\\42952\\appdata\\local\\continuum\\anaconda3\\envs\\drnld\\lib\\site-packages\\torch\\nn\\functional.py:1558: UserWarning: nn.functional.tanh is deprecated. Use torch.tanh instead.\n",
            "  warnings.warn(\"nn.functional.tanh is deprecated. Use torch.tanh instead.\")\n"
          ]
        },
        {
          "output_type": "stream",
          "name": "stdout",
          "text": [
            "Episode 100\tAverage Score: 3.53\n",
            "Episode 200\tAverage Score: 14.70\n",
            "Episode 300\tAverage Score: 22.67\n",
            "Episode 400\tAverage Score: 26.73\n",
            "Episode 500\tAverage Score: 29.24\n",
            "Episode 542\tAverage Score: 30.00\n",
            "Environment solved in 442 episodes!\tAverage Score: 30.00\n"
          ]
        },
        {
          "output_type": "display_data",
          "data": {
            "image/png": "[encoded data removed]",
            "text/plain": [
              "<Figure size 432x288 with 1 Axes>"
            ]
          },
          "metadata": {
            "needs_background": "light"
          }
        }
      ],
      "execution_count": 8,
      "metadata": {}
    }
  ],
  "metadata": {
    "kernelspec": {
      "display_name": "Python 3",
      "language": "python",
      "name": "python3"
    },
    "language_info": {
      "codemirror_mode": {
        "name": "ipython",
        "version": 3
      },
      "file_extension": ".py",
      "mimetype": "text/x-python",
      "name": "python",
      "nbconvert_exporter": "python",
      "pygments_lexer": "ipython3",
      "version": "3.6.10"
    },
    "nteract": {
      "version": "0.23.3"
    }
  },
  "nbformat": 4,
  "nbformat_minor": 2
}